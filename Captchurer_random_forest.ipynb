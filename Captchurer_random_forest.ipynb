{
  "nbformat": 4,
  "nbformat_minor": 0,
  "metadata": {
    "colab": {
      "name": "Captchurer_random_forest.ipynb",
      "provenance": [],
      "authorship_tag": "ABX9TyMNC/aXLYhKXFZ7atFNYXya",
      "include_colab_link": true
    },
    "kernelspec": {
      "name": "python3",
      "display_name": "Python 3"
    },
    "language_info": {
      "name": "python"
    }
  },
  "cells": [
    {
      "cell_type": "markdown",
      "metadata": {
        "id": "view-in-github",
        "colab_type": "text"
      },
      "source": [
        "<a href=\"https://colab.research.google.com/github/ShravanCool/Captchurer/blob/master/Captchurer_random_forest.ipynb\" target=\"_parent\"><img src=\"https://colab.research.google.com/assets/colab-badge.svg\" alt=\"Open In Colab\"/></a>"
      ]
    },
    {
      "cell_type": "code",
      "metadata": {
        "id": "O4bncLL13JK0"
      },
      "source": [
        "!unzip generated_captcha_images.zip"
      ],
      "execution_count": null,
      "outputs": []
    },
    {
      "cell_type": "code",
      "metadata": {
        "id": "2ba_ia474TPR"
      },
      "source": [
        "!unzip extracted_letter_images.zip"
      ],
      "execution_count": null,
      "outputs": []
    },
    {
      "cell_type": "code",
      "metadata": {
        "id": "pfxNi38a4cAj"
      },
      "source": [
        "import imutils\n",
        "import cv2\n",
        "\n",
        "\n",
        "def resize_to_fit(image, width, height):\n",
        "    \"\"\"\n",
        "    A helper function to resize an image to fit within a given size\n",
        "    :param image: image to resize\n",
        "    :param width: desired width in pixels\n",
        "    :param height: desired height in pixels\n",
        "    :return: the resized image\n",
        "    \"\"\"\n",
        "\n",
        "    # grab the dimensions of the image, then initialize\n",
        "    # the padding values\n",
        "    (h, w) = image.shape[:2]\n",
        "\n",
        "    # if the width is greater than the height then resize along\n",
        "    # the width\n",
        "    if w > h:\n",
        "        image = imutils.resize(image, width=width)\n",
        "\n",
        "    # otherwise, the height is greater than the width so resize\n",
        "    # along the height\n",
        "    else:\n",
        "        image = imutils.resize(image, height=height)\n",
        "\n",
        "    # determine the padding values for the width and height to\n",
        "    # obtain the target dimensions\n",
        "    padW = int((width - image.shape[1]) / 2.0)\n",
        "    padH = int((height - image.shape[0]) / 2.0)\n",
        "\n",
        "    # pad the image then apply one more resizing to handle any\n",
        "    # rounding issues\n",
        "    image = cv2.copyMakeBorder(image, padH, padH, padW, padW,\n",
        "        cv2.BORDER_REPLICATE)\n",
        "    image = cv2.resize(image, (width, height))\n",
        "\n",
        "    # return the pre-processed image\n",
        "    return image"
      ],
      "execution_count": 4,
      "outputs": []
    },
    {
      "cell_type": "code",
      "metadata": {
        "colab": {
          "base_uri": "https://localhost:8080/"
        },
        "id": "_agXeiIE4yav",
        "outputId": "0e429ccc-b334-49f2-ac09-0edc82a1b6df"
      },
      "source": [
        "import cv2\n",
        "import pickle\n",
        "import os.path\n",
        "import numpy as np\n",
        "from imutils import paths\n",
        "from sklearn.preprocessing import LabelBinarizer\n",
        "from sklearn.model_selection import train_test_split\n",
        "from sklearn.ensemble import RandomForestClassifier\n",
        "from sklearn.metrics import accuracy_score\n",
        "# from helpers import resize_to_fit\n",
        "\n",
        "\n",
        "LETTER_IMAGES_FOLDER = \"extracted_letter_images\"\n",
        "MODEL_FILENAME = \"captcha_random_forest.hdf5\"\n",
        "MODEL_LABELS_FILENAME = \"model_labels_rf.dat\"\n",
        "\n",
        "\n",
        "# initialize the data and labels\n",
        "data = []\n",
        "labels = []\n",
        "\n",
        "# loop over the input images\n",
        "for image_file in paths.list_images(LETTER_IMAGES_FOLDER):\n",
        "    # Load the image and convert it to grayscale\n",
        "    image = cv2.imread(image_file)\n",
        "    image = cv2.cvtColor(image, cv2.COLOR_BGR2GRAY)\n",
        "\n",
        "    # Resize the letter so it fits in a 20x20 pixel box\n",
        "    image = resize_to_fit(image, 20, 20)\n",
        "\n",
        "    # Add a third channel dimension to the image to make Keras happy\n",
        "    # image = np.expand_dims(image, axis=2)\n",
        "\n",
        "    # Grab the name of the letter based on the folder it was in\n",
        "    label = image_file.split(os.path.sep)[-2]\n",
        "\n",
        "    # Add the letter image and it's label to our training data\n",
        "    data.append(image)\n",
        "    labels.append(label)\n",
        "\n",
        "\n",
        "# scale the raw pixel intensities to the range [0, 1] (this improves training)\n",
        "data = np.array(data, dtype=\"float\") / 255.0\n",
        "labels = np.array(labels)\n",
        "\n",
        "nsamples, nx, ny = data.shape\n",
        "data = data.reshape((nsamples,nx*ny))\n",
        "\n",
        "# Split the training data into separate train and test sets\n",
        "(X_train, X_test, Y_train, Y_test) = train_test_split(data, labels, test_size=0.25, random_state=0)\n",
        "\n",
        "# Convert the labels (letters) into one-hot encodings that Keras can work with\n",
        "# lb = LabelBinarizer().fit(Y_train)\n",
        "# Y_train = lb.transform(Y_train)\n",
        "# Y_test = lb.transform(Y_test)\n",
        "\n",
        "# Save the mapping from labels to one-hot encodings.\n",
        "# We'll need this later when we use the model to decode what it's predictions mean\n",
        "with open(MODEL_LABELS_FILENAME, \"wb\") as f:\n",
        "    pickle.dump(lb, f)\n",
        "\n",
        "clf = RandomForestClassifier()\n",
        "clf.fit(X_train, Y_train)\n",
        "\n",
        "Y_pred = clf.predict(X_test)\n",
        "\n",
        "print(\"Accuracy score-\", accuracy_score(Y_test, Y_pred))\n",
        "\n",
        "pickle.dump(clf, open(MODEL_FILENAME, 'wb'))"
      ],
      "execution_count": 63,
      "outputs": [
        {
          "output_type": "stream",
          "text": [
            "Accuracy score- 0.9935990088787942\n"
          ],
          "name": "stdout"
        }
      ]
    },
    {
      "cell_type": "code",
      "metadata": {
        "colab": {
          "base_uri": "https://localhost:8080/"
        },
        "id": "xzj32SKU7nVn",
        "outputId": "5b6ac9b2-bb46-4fd7-9f17-31778dc3b0b4"
      },
      "source": [
        "Y_pred"
      ],
      "execution_count": 64,
      "outputs": [
        {
          "output_type": "execute_result",
          "data": {
            "text/plain": [
              "array(['Z', 'J', 'Z', ..., '9', 'P', 'N'], dtype='<U1')"
            ]
          },
          "metadata": {
            "tags": []
          },
          "execution_count": 64
        }
      ]
    },
    {
      "cell_type": "code",
      "metadata": {
        "colab": {
          "base_uri": "https://localhost:8080/"
        },
        "id": "DS7jl7MpKCCf",
        "outputId": "06bf232c-7b75-4289-982c-29e09ac546a9"
      },
      "source": [
        "Y_test"
      ],
      "execution_count": 65,
      "outputs": [
        {
          "output_type": "execute_result",
          "data": {
            "text/plain": [
              "array(['Z', 'J', 'Z', ..., '9', 'P', 'N'], dtype='<U1')"
            ]
          },
          "metadata": {
            "tags": []
          },
          "execution_count": 65
        }
      ]
    },
    {
      "cell_type": "code",
      "metadata": {
        "colab": {
          "base_uri": "https://localhost:8080/",
          "height": 831
        },
        "id": "5mED3SBH42b-",
        "outputId": "bf938a27-ae86-4899-9b21-a0bcec070f91"
      },
      "source": [
        "from keras.models import load_model\n",
        "# from helpers import resize_to_fit\n",
        "from imutils import paths\n",
        "import numpy as np\n",
        "import imutils\n",
        "import cv2\n",
        "import pickle\n",
        "from google.colab.patches import cv2_imshow\n",
        "\n",
        "\n",
        "MODEL_FILENAME = \"captcha_random_forest.hdf5\"\n",
        "MODEL_LABELS_FILENAME = \"model_labels_rf.dat\"\n",
        "CAPTCHA_IMAGE_FOLDER = \"generated_captcha_images\"\n",
        "\n",
        "\n",
        "# Load up the model labels (so we can translate model predictions to actual letters)\n",
        "with open(MODEL_LABELS_FILENAME, \"rb\") as f:\n",
        "    lb = pickle.load(f)\n",
        "\n",
        "# Load the trained neural network\n",
        "# model = pickle.load(open(MODEL_FILENAME, 'rb'))\n",
        "model = load_model(MODEL_FILENAME)\n",
        "\n",
        "# Grab some random CAPTCHA images to test against.\n",
        "# In the real world, you'd replace this section with code to grab a real\n",
        "# CAPTCHA image from a live website.\n",
        "captcha_image_files = list(paths.list_images(CAPTCHA_IMAGE_FOLDER))\n",
        "captcha_image_files = np.random.choice(captcha_image_files, size=(10,), replace=False)\n",
        "\n",
        "# loop over the image paths\n",
        "for image_file in captcha_image_files:\n",
        "    # Load the image and convert it to grayscale\n",
        "    image = cv2.imread(image_file)\n",
        "    image = cv2.cvtColor(image, cv2.COLOR_BGR2GRAY)\n",
        "\n",
        "    # Add some extra padding around the image\n",
        "    image = cv2.copyMakeBorder(image, 20, 20, 20, 20, cv2.BORDER_REPLICATE)\n",
        "\n",
        "    # threshold the image (convert it to pure black and white)\n",
        "    thresh = cv2.threshold(image, 0, 255, cv2.THRESH_BINARY_INV | cv2.THRESH_OTSU)[1]\n",
        "\n",
        "    # find the contours (continuous blobs of pixels) the image\n",
        "    contours = cv2.findContours(thresh.copy(), cv2.RETR_EXTERNAL, cv2.CHAIN_APPROX_SIMPLE)\n",
        "\n",
        "    # Hack for compatibility with different OpenCV versions\n",
        "    contours = contours[1] if imutils.is_cv3() else contours[0]\n",
        "\n",
        "    letter_image_regions = []\n",
        "\n",
        "    # Now we can loop through each of the four contours and extract the letter\n",
        "    # inside of each one\n",
        "    for contour in contours:\n",
        "        # Get the rectangle that contains the contour\n",
        "        (x, y, w, h) = cv2.boundingRect(contour)\n",
        "\n",
        "        # Compare the width and height of the contour to detect letters that\n",
        "        # are conjoined into one chunk\n",
        "        if w / h > 1.25:\n",
        "            # This contour is too wide to be a single letter!\n",
        "            # Split it in half into two letter regions!\n",
        "            half_width = int(w / 2)\n",
        "            letter_image_regions.append((x, y, half_width, h))\n",
        "            letter_image_regions.append((x + half_width, y, half_width, h))\n",
        "        else:\n",
        "            # This is a normal letter by itself\n",
        "            letter_image_regions.append((x, y, w, h))\n",
        "\n",
        "    # If we found more or less than 4 letters in the captcha, our letter extraction\n",
        "    # didn't work correcly. Skip the image instead of saving bad training data!\n",
        "    if len(letter_image_regions) != 4:\n",
        "        continue\n",
        "\n",
        "    # Sort the detected letter images based on the x coordinate to make sure\n",
        "    # we are processing them from left-to-right so we match the right image\n",
        "    # with the right letter\n",
        "    letter_image_regions = sorted(letter_image_regions, key=lambda x: x[0])\n",
        "\n",
        "    # Create an output image and a list to hold our predicted letters\n",
        "    output = cv2.merge([image] * 3)\n",
        "    predictions = []\n",
        "\n",
        "    # loop over the lektters\n",
        "    for letter_bounding_box in letter_image_regions:\n",
        "        # Grab the coordinates of the letter in the image\n",
        "        x, y, w, h = letter_bounding_box\n",
        "\n",
        "        # Extract the letter from the original image with a 2-pixel margin around the edge\n",
        "        letter_image = image[y - 2:y + h + 2, x - 2:x + w + 2]\n",
        "\n",
        "        # Re-size the letter image to 20x20 pixels to match training data\n",
        "        letter_image = resize_to_fit(letter_image, 20, 20)\n",
        "        # print(letter_image)\n",
        "\n",
        "        letter_image = np.expand_dims(letter_image, axis=2)\n",
        "        letter_image = np.expand_dims(letter_image, axis=0)\n",
        "\n",
        "        # nx, ny = letter_image.shape\n",
        "        # letter_image = letter_image.reshape(nx*ny)\n",
        "        # letter_image = letter_image.reshape(1, -1)\n",
        "\n",
        "        # Ask the neural network to make a prediction\n",
        "        prediction = model.predict(letter_image)\n",
        "        # print(prediction)\n",
        "\n",
        "        # Convert the one-hot-encoded prediction back to a normal letter\n",
        "        letter = lb.inverse_transform(prediction)[0]\n",
        "        predictions.append(letter)\n",
        "\n",
        "        # draw the prediction on the output image\n",
        "        cv2.rectangle(output, (x - 2, y - 2), (x + w + 4, y + h + 4), (0, 255, 0), 1)\n",
        "        cv2.putText(output, letter, (x - 5, y - 5), cv2.FONT_HERSHEY_SIMPLEX, 0.55, (0, 255, 0), 2)\n",
        "\n",
        "    # Print the captcha's text\n",
        "    captcha_text = \"\".join(predictions)\n",
        "    print(\"CAPTCHA text is: {}\".format(captcha_text))\n",
        "\n",
        "    # Show the annotated image\n",
        "    cv2_imshow(output)\n",
        "    cv2.waitKey()"
      ],
      "execution_count": 73,
      "outputs": [
        {
          "output_type": "stream",
          "text": [
            "CAPTCHA text is: DGA6\n"
          ],
          "name": "stdout"
        },
        {
          "output_type": "display_data",
          "data": {
            "image/png": "[encoded data removed]",
            "text/plain": [
              "<PIL.Image.Image image mode=RGB size=112x64 at 0x7F82E94D9DD0>"
            ]
          },
          "metadata": {
            "tags": []
          }
        },
        {
          "output_type": "stream",
          "text": [
            "CAPTCHA text is: EZEB\n"
          ],
          "name": "stdout"
        },
        {
          "output_type": "display_data",
          "data": {
            "image/png": "[encoded data removed]",
            "text/plain": [
              "<PIL.Image.Image image mode=RGB size=112x64 at 0x7F82E4445A50>"
            ]
          },
          "metadata": {
            "tags": []
          }
        },
        {
          "output_type": "stream",
          "text": [
            "CAPTCHA text is: SSE2\n"
          ],
          "name": "stdout"
        },
        {
          "output_type": "display_data",
          "data": {
            "image/png": "[encoded data removed]",
            "text/plain": [
              "<PIL.Image.Image image mode=RGB size=112x64 at 0x7F82E477B410>"
            ]
          },
          "metadata": {
            "tags": []
          }
        },
        {
          "output_type": "stream",
          "text": [
            "CAPTCHA text is: E8UH\n"
          ],
          "name": "stdout"
        },
        {
          "output_type": "display_data",
          "data": {
            "image/png": "[encoded data removed]",
            "text/plain": [
              "<PIL.Image.Image image mode=RGB size=112x64 at 0x7F82E95CCE50>"
            ]
          },
          "metadata": {
            "tags": []
          }
        },
        {
          "output_type": "stream",
          "text": [
            "CAPTCHA text is: Q74J\n"
          ],
          "name": "stdout"
        },
        {
          "output_type": "display_data",
          "data": {
            "image/png": "[encoded data removed]",
            "text/plain": [
              "<PIL.Image.Image image mode=RGB size=112x64 at 0x7F82E94DE910>"
            ]
          },
          "metadata": {
            "tags": []
          }
        },
        {
          "output_type": "stream",
          "text": [
            "CAPTCHA text is: 8E9N\n"
          ],
          "name": "stdout"
        },
        {
          "output_type": "display_data",
          "data": {
            "image/png": "[encoded data removed]",
            "text/plain": [
              "<PIL.Image.Image image mode=RGB size=112x64 at 0x7F82E95895D0>"
            ]
          },
          "metadata": {
            "tags": []
          }
        },
        {
          "output_type": "stream",
          "text": [
            "CAPTCHA text is: YDT5\n"
          ],
          "name": "stdout"
        },
        {
          "output_type": "display_data",
          "data": {
            "image/png": "[encoded data removed]",
            "text/plain": [
              "<PIL.Image.Image image mode=RGB size=112x64 at 0x7F82E4B21CD0>"
            ]
          },
          "metadata": {
            "tags": []
          }
        },
        {
          "output_type": "stream",
          "text": [
            "CAPTCHA text is: 5WRQ\n"
          ],
          "name": "stdout"
        },
        {
          "output_type": "display_data",
          "data": {
            "image/png": "[encoded data removed]",
            "text/plain": [
              "<PIL.Image.Image image mode=RGB size=112x64 at 0x7F82E993D110>"
            ]
          },
          "metadata": {
            "tags": []
          }
        },
        {
          "output_type": "stream",
          "text": [
            "CAPTCHA text is: 77KS\n"
          ],
          "name": "stdout"
        },
        {
          "output_type": "display_data",
          "data": {
            "image/png": "[encoded data removed]",
            "text/plain": [
              "<PIL.Image.Image image mode=RGB size=112x64 at 0x7F82E475B650>"
            ]
          },
          "metadata": {
            "tags": []
          }
        },
        {
          "output_type": "stream",
          "text": [
            "CAPTCHA text is: QE7C\n"
          ],
          "name": "stdout"
        },
        {
          "output_type": "display_data",
          "data": {
            "image/png": "[encoded data removed]",
            "text/plain": [
              "<PIL.Image.Image image mode=RGB size=112x64 at 0x7F82E9C31F90>"
            ]
          },
          "metadata": {
            "tags": []
          }
        }
      ]
    }
  ]
}